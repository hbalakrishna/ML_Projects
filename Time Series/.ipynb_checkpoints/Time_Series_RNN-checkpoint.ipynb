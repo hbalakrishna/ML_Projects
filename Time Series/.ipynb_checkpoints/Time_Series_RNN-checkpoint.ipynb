{
 "cells": [
  {
   "cell_type": "code",
   "execution_count": 1,
   "metadata": {
    "collapsed": true
   },
   "outputs": [],
   "source": [
    "import numpy as np\n",
    "import tensorflow as tf \n",
    "import matplotlib.pyplot as plt\n",
    "%matplotlib inline"
   ]
  },
  {
   "cell_type": "code",
   "execution_count": 2,
   "metadata": {
    "collapsed": true
   },
   "outputs": [],
   "source": [
    "class TimeSeriesData():\n",
    "    \n",
    "    def __init__(self, num_points, xmin, xmax):\n",
    "        self.xmin = xmin\n",
    "        self.xmax = xmax \n",
    "        self.num_points = num_points\n",
    "        self.resolution = (xmax-xmin)/num_points\n",
    "        self.x_data  = np.linspace(xmin, xmax, num_points)\n",
    "        self.y_true = np.sin(x_data)\n",
    "    \n",
    "    #To compare data which we dont have \n",
    "    def ret_true(self, x_series):\n",
    "        return np.sin(x_series)\n",
    "    \n",
    "    def nxt_batch(self, batch_size, steps, return_batch_ts = False):\n",
    "        \n",
    "        #Get a random starting point to the batch size \n",
    "        rand_start = np.random.rand(batch_size, 1)\n",
    "        \n",
    "        #Make the point fall on the time series\n",
    "        ts_start  = rand_start * (self.xmax - self.xmin - (steps * self.resolution))\n",
    "        \n",
    "        #Create a batch of data\n",
    "        batch_ts = ts_start + np.arange(0.0, steps + 1) * self.resolution\n",
    "        \n",
    "        y_batch = np.sin(batch_ts)\n",
    "        \n",
    "        if return_batch_ts:\n",
    "            return y_batch[:,:-1].reshape(-1,steps,1), y_batch[:,1:].reshape(-1,steps,1), batch_ts\n",
    "        else:\n",
    "            return y_batch[:,:-1].reshape(-1,steps,1), y_batch[:,1:].reshape(-1,steps,1)\n",
    "        "
   ]
  },
  {
   "cell_type": "code",
   "execution_count": null,
   "metadata": {
    "collapsed": true
   },
   "outputs": [],
   "source": []
  }
 ],
 "metadata": {
  "kernelspec": {
   "display_name": "Python 3",
   "language": "python",
   "name": "python3"
  },
  "language_info": {
   "codemirror_mode": {
    "name": "ipython",
    "version": 3
   },
   "file_extension": ".py",
   "mimetype": "text/x-python",
   "name": "python",
   "nbconvert_exporter": "python",
   "pygments_lexer": "ipython3",
   "version": "3.6.0"
  }
 },
 "nbformat": 4,
 "nbformat_minor": 2
}
