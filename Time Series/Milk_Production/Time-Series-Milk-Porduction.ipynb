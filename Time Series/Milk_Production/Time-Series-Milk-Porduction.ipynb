{
 "cells": [
  {
   "cell_type": "markdown",
   "metadata": {},
   "source": [
    "# Time Series -Milk Production \n"
   ]
  },
  {
   "cell_type": "markdown",
   "metadata": {},
   "source": [
    "## The Data\n",
    "\n",
    "** Source: https://datamarket.com/data/set/22ox/monthly-milk-production-pounds-per-cow-jan-62-dec-75#!ds=22ox&display=line **\n",
    "\n",
    "**Monthly milk production: pounds per cow. Jan 62 - Dec 75**"
   ]
  },
  {
   "cell_type": "code",
   "execution_count": 1,
   "metadata": {
    "collapsed": false
   },
   "outputs": [],
   "source": [
    "import numpy as np \n",
    "import pandas as pd \n",
    "import matplotlib.pyplot as plt\n",
    "%matplotlib inline"
   ]
  },
  {
   "cell_type": "code",
   "execution_count": 2,
   "metadata": {
    "collapsed": true
   },
   "outputs": [],
   "source": [
    "data_milk = pd.read_csv('monthly-milk-production.csv', index_col='Month')"
   ]
  },
  {
   "cell_type": "code",
   "execution_count": 3,
   "metadata": {
    "collapsed": false
   },
   "outputs": [
    {
     "data": {
      "text/html": [
       "<div>\n",
       "<style>\n",
       "    .dataframe thead tr:only-child th {\n",
       "        text-align: right;\n",
       "    }\n",
       "\n",
       "    .dataframe thead th {\n",
       "        text-align: left;\n",
       "    }\n",
       "\n",
       "    .dataframe tbody tr th {\n",
       "        vertical-align: top;\n",
       "    }\n",
       "</style>\n",
       "<table border=\"1\" class=\"dataframe\">\n",
       "  <thead>\n",
       "    <tr style=\"text-align: right;\">\n",
       "      <th></th>\n",
       "      <th>Milk Production</th>\n",
       "    </tr>\n",
       "    <tr>\n",
       "      <th>Month</th>\n",
       "      <th></th>\n",
       "    </tr>\n",
       "  </thead>\n",
       "  <tbody>\n",
       "    <tr>\n",
       "      <th>1962-01-01 01:00:00</th>\n",
       "      <td>589.0</td>\n",
       "    </tr>\n",
       "    <tr>\n",
       "      <th>1962-02-01 01:00:00</th>\n",
       "      <td>561.0</td>\n",
       "    </tr>\n",
       "    <tr>\n",
       "      <th>1962-03-01 01:00:00</th>\n",
       "      <td>640.0</td>\n",
       "    </tr>\n",
       "    <tr>\n",
       "      <th>1962-04-01 01:00:00</th>\n",
       "      <td>656.0</td>\n",
       "    </tr>\n",
       "    <tr>\n",
       "      <th>1962-05-01 01:00:00</th>\n",
       "      <td>727.0</td>\n",
       "    </tr>\n",
       "  </tbody>\n",
       "</table>\n",
       "</div>"
      ],
      "text/plain": [
       "                     Milk Production\n",
       "Month                               \n",
       "1962-01-01 01:00:00            589.0\n",
       "1962-02-01 01:00:00            561.0\n",
       "1962-03-01 01:00:00            640.0\n",
       "1962-04-01 01:00:00            656.0\n",
       "1962-05-01 01:00:00            727.0"
      ]
     },
     "execution_count": 3,
     "metadata": {},
     "output_type": "execute_result"
    }
   ],
   "source": [
    "data_milk.head()"
   ]
  },
  {
   "cell_type": "markdown",
   "metadata": {},
   "source": [
    "** Make the index a time series by using: **\n",
    "\n",
    "    milk.index = pd.to_datetime(milk.index)"
   ]
  },
  {
   "cell_type": "code",
   "execution_count": 4,
   "metadata": {
    "collapsed": true
   },
   "outputs": [],
   "source": [
    "data_milk.index = pd.to_datetime(data_milk.index)"
   ]
  },
  {
   "cell_type": "code",
   "execution_count": 5,
   "metadata": {
    "collapsed": false
   },
   "outputs": [
    {
     "data": {
      "text/plain": [
       "<matplotlib.axes._subplots.AxesSubplot at 0x107980390>"
      ]
     },
     "execution_count": 5,
     "metadata": {},
     "output_type": "execute_result"
    },
    {
     "data": {
      "image/png": "[encoded data removed]",
      "text/plain": [
       "<matplotlib.figure.Figure at 0x10789a6a0>"
      ]
     },
     "metadata": {},
     "output_type": "display_data"
    }
   ],
   "source": [
    "data_milk.plot()"
   ]
  },
  {
   "cell_type": "markdown",
   "metadata": {},
   "source": [
    "### Train Test Split "
   ]
  },
  {
   "cell_type": "markdown",
   "metadata": {},
   "source": [
    "** We use last 12 months data as the test set **"
   ]
  },
  {
   "cell_type": "code",
   "execution_count": 6,
   "metadata": {
    "collapsed": true
   },
   "outputs": [],
   "source": [
    "train_set = data_milk.head(156)\n",
    "test_set = data_milk.tail(12)"
   ]
  },
  {
   "cell_type": "markdown",
   "metadata": {},
   "source": [
    "### Scaling the data"
   ]
  },
  {
   "cell_type": "code",
   "execution_count": 7,
   "metadata": {
    "collapsed": true
   },
   "outputs": [],
   "source": [
    "from sklearn.preprocessing import MinMaxScaler"
   ]
  },
  {
   "cell_type": "code",
   "execution_count": 8,
   "metadata": {
    "collapsed": true
   },
   "outputs": [],
   "source": [
    " scaler = MinMaxScaler()"
   ]
  },
  {
   "cell_type": "code",
   "execution_count": 9,
   "metadata": {
    "collapsed": true
   },
   "outputs": [],
   "source": [
    "scaled_train =  scaler.fit_transform(train_set)"
   ]
  },
  {
   "cell_type": "code",
   "execution_count": 10,
   "metadata": {
    "collapsed": true
   },
   "outputs": [],
   "source": [
    " scaled_test = scaler.transform(test_set)"
   ]
  },
  {
   "cell_type": "markdown",
   "metadata": {},
   "source": [
    "### Batch Function "
   ]
  },
  {
   "cell_type": "code",
   "execution_count": 11,
   "metadata": {
    "collapsed": true
   },
   "outputs": [],
   "source": [
    "def nxt_batch(training_data, batch_size, steps):\n",
    "    #Generate random starting points \n",
    "    rand_start = np.random.randint(0 , len(training_data) - steps)\n",
    "    #\n",
    "    y_batch = np.array(training_data[rand_start:rand_start+steps+1]).reshape(1,steps+1)\n",
    "    \n",
    "    return y_batch[:,:-1].reshape(-1,steps,1), y_batch[:,1:].reshape(-1,steps,1)"
   ]
  },
  {
   "cell_type": "markdown",
   "metadata": {},
   "source": [
    "### RNN Model "
   ]
  },
  {
   "cell_type": "code",
   "execution_count": 12,
   "metadata": {
    "collapsed": true
   },
   "outputs": [],
   "source": [
    "import tensorflow as tf"
   ]
  },
  {
   "cell_type": "code",
   "execution_count": 13,
   "metadata": {
    "collapsed": true
   },
   "outputs": [],
   "source": [
    "#Constants\n",
    "\n",
    "num_ip = 1 \n",
    "num_time_steps = 12\n",
    "num_neurons = 100\n",
    "num_op = 1\n",
    "learning_rate = 0.01 \n",
    "num_iterations = 6000\n",
    "batch_size = 1\n"
   ]
  },
  {
   "cell_type": "markdown",
   "metadata": {},
   "source": [
    "### Placeholders"
   ]
  },
  {
   "cell_type": "code",
   "execution_count": 14,
   "metadata": {
    "collapsed": true
   },
   "outputs": [],
   "source": [
    "X = tf.placeholder(tf.float32, [None, num_time_steps, num_ip])"
   ]
  },
  {
   "cell_type": "code",
   "execution_count": 15,
   "metadata": {
    "collapsed": true
   },
   "outputs": [],
   "source": [
    " y = tf.placeholder(tf.float32, [None, num_time_steps, num_op])"
   ]
  },
  {
   "cell_type": "code",
   "execution_count": 16,
   "metadata": {
    "collapsed": true
   },
   "outputs": [],
   "source": [
    "cell = tf.contrib.rnn.BasicLSTMCell(num_units=num_neurons, activation=tf.nn.relu)"
   ]
  },
  {
   "cell_type": "code",
   "execution_count": 17,
   "metadata": {
    "collapsed": true
   },
   "outputs": [],
   "source": [
    "cell = tf.contrib.rnn.OutputProjectionWrapper(cell, output_size=num_op )"
   ]
  },
  {
   "cell_type": "markdown",
   "metadata": {},
   "source": [
    "#### Dynamic RNN"
   ]
  },
  {
   "cell_type": "code",
   "execution_count": 18,
   "metadata": {
    "collapsed": false
   },
   "outputs": [],
   "source": [
    "outputs, states = tf.nn.dynamic_rnn(cell, X, dtype=tf.float32)"
   ]
  },
  {
   "cell_type": "markdown",
   "metadata": {},
   "source": [
    "#### Loss Function & Optimizer "
   ]
  },
  {
   "cell_type": "code",
   "execution_count": 19,
   "metadata": {
    "collapsed": true
   },
   "outputs": [],
   "source": [
    "loss = tf.reduce_mean(tf.square(outputs - y)) "
   ]
  },
  {
   "cell_type": "code",
   "execution_count": 20,
   "metadata": {
    "collapsed": true
   },
   "outputs": [],
   "source": [
    "optimizer = tf.train.AdamOptimizer(learning_rate=learning_rate)"
   ]
  },
  {
   "cell_type": "code",
   "execution_count": 21,
   "metadata": {
    "collapsed": true
   },
   "outputs": [],
   "source": [
    "train = optimizer.minimize(loss)"
   ]
  },
  {
   "cell_type": "markdown",
   "metadata": {},
   "source": [
    "#### Global Variables"
   ]
  },
  {
   "cell_type": "code",
   "execution_count": 22,
   "metadata": {
    "collapsed": true
   },
   "outputs": [],
   "source": [
    "init = tf.global_variables_initializer()"
   ]
  },
  {
   "cell_type": "markdown",
   "metadata": {},
   "source": [
    "#### Save the model"
   ]
  },
  {
   "cell_type": "code",
   "execution_count": 23,
   "metadata": {
    "collapsed": false
   },
   "outputs": [],
   "source": [
    "saver = tf.train.Saver()"
   ]
  },
  {
   "cell_type": "markdown",
   "metadata": {},
   "source": [
    "#### Session "
   ]
  },
  {
   "cell_type": "code",
   "execution_count": 24,
   "metadata": {
    "collapsed": true
   },
   "outputs": [],
   "source": [
    "##GPU Options \n",
    "gpu_options =  tf.GPUOptions(per_process_gpu_memory_fraction=0.9)"
   ]
  },
  {
   "cell_type": "code",
   "execution_count": 25,
   "metadata": {
    "collapsed": false
   },
   "outputs": [
    {
     "name": "stdout",
     "output_type": "stream",
     "text": [
      "0 \tMSE  0.0328919\n",
      "100 \tMSE  0.0167907\n",
      "200 \tMSE  0.0123596\n",
      "300 \tMSE  0.00617016\n",
      "400 \tMSE  0.00295552\n",
      "500 \tMSE  0.00927952\n",
      "600 \tMSE  0.00774142\n",
      "700 \tMSE  0.00340428\n",
      "800 \tMSE  0.00770567\n",
      "900 \tMSE  0.00628836\n",
      "1000 \tMSE  0.00577955\n",
      "1100 \tMSE  0.00986384\n",
      "1200 \tMSE  0.00386588\n",
      "1300 \tMSE  0.00259697\n",
      "1400 \tMSE  0.00621199\n",
      "1500 \tMSE  0.00427769\n",
      "1600 \tMSE  0.00450484\n",
      "1700 \tMSE  0.00205629\n",
      "1800 \tMSE  0.0077075\n",
      "1900 \tMSE  0.0020421\n",
      "2000 \tMSE  0.00493815\n",
      "2100 \tMSE  0.00405998\n",
      "2200 \tMSE  0.0020493\n",
      "2300 \tMSE  0.00957921\n",
      "2400 \tMSE  0.00338549\n",
      "2500 \tMSE  0.0049253\n",
      "2600 \tMSE  0.00464465\n",
      "2700 \tMSE  0.00311035\n",
      "2800 \tMSE  0.00497977\n",
      "2900 \tMSE  0.00620366\n",
      "3000 \tMSE  0.00374717\n",
      "3100 \tMSE  0.0042427\n",
      "3200 \tMSE  0.00214975\n",
      "3300 \tMSE  0.000717158\n",
      "3400 \tMSE  0.00203397\n",
      "3500 \tMSE  0.00196303\n",
      "3600 \tMSE  0.00565665\n",
      "3700 \tMSE  0.00902808\n",
      "3800 \tMSE  0.00118623\n",
      "3900 \tMSE  0.00445019\n",
      "4000 \tMSE  0.00298557\n",
      "4100 \tMSE  0.00470743\n",
      "4200 \tMSE  0.00669454\n",
      "4300 \tMSE  0.00640176\n",
      "4400 \tMSE  0.00179536\n",
      "4500 \tMSE  0.0018258\n",
      "4600 \tMSE  0.00109743\n",
      "4700 \tMSE  0.00399531\n",
      "4800 \tMSE  0.00269054\n",
      "4900 \tMSE  0.00230122\n",
      "5000 \tMSE  0.00243843\n",
      "5100 \tMSE  0.00115726\n",
      "5200 \tMSE  0.00335359\n",
      "5300 \tMSE  0.00524609\n",
      "5400 \tMSE  0.00598473\n",
      "5500 \tMSE  0.00291411\n",
      "5600 \tMSE  0.00265858\n",
      "5700 \tMSE  0.00294502\n",
      "5800 \tMSE  0.000873473\n",
      "5900 \tMSE  0.00369004\n"
     ]
    }
   ],
   "source": [
    "with tf.Session(config=tf.ConfigProto(gpu_options=gpu_options)) as sess:\n",
    "    sess.run(init)\n",
    "    \n",
    "    for iterations in range(num_iterations):\n",
    "        \n",
    "        X_batch, y_batch = nxt_batch(scaled_train, batch_size, num_time_steps)\n",
    "        \n",
    "        sess.run(train, feed_dict={X:X_batch, y:y_batch})\n",
    "        \n",
    "        if iterations%100 == 0:\n",
    "            mse = loss.eval(feed_dict={X:X_batch, y:y_batch})\n",
    "            print(iterations, \"\\tMSE \", mse)\n",
    "    \n",
    "    saver.save(sess, \"./time_series_milk_production\")\n",
    "    "
   ]
  },
  {
   "cell_type": "markdown",
   "metadata": {},
   "source": [
    "#### Predicting the future -> Test Data"
   ]
  },
  {
   "cell_type": "code",
   "execution_count": 26,
   "metadata": {
    "collapsed": false
   },
   "outputs": [
    {
     "data": {
      "text/html": [
       "<div>\n",
       "<style>\n",
       "    .dataframe thead tr:only-child th {\n",
       "        text-align: right;\n",
       "    }\n",
       "\n",
       "    .dataframe thead th {\n",
       "        text-align: left;\n",
       "    }\n",
       "\n",
       "    .dataframe tbody tr th {\n",
       "        vertical-align: top;\n",
       "    }\n",
       "</style>\n",
       "<table border=\"1\" class=\"dataframe\">\n",
       "  <thead>\n",
       "    <tr style=\"text-align: right;\">\n",
       "      <th></th>\n",
       "      <th>Milk Production</th>\n",
       "    </tr>\n",
       "    <tr>\n",
       "      <th>Month</th>\n",
       "      <th></th>\n",
       "    </tr>\n",
       "  </thead>\n",
       "  <tbody>\n",
       "    <tr>\n",
       "      <th>1975-01-01 01:00:00</th>\n",
       "      <td>834.0</td>\n",
       "    </tr>\n",
       "    <tr>\n",
       "      <th>1975-02-01 01:00:00</th>\n",
       "      <td>782.0</td>\n",
       "    </tr>\n",
       "    <tr>\n",
       "      <th>1975-03-01 01:00:00</th>\n",
       "      <td>892.0</td>\n",
       "    </tr>\n",
       "    <tr>\n",
       "      <th>1975-04-01 01:00:00</th>\n",
       "      <td>903.0</td>\n",
       "    </tr>\n",
       "    <tr>\n",
       "      <th>1975-05-01 01:00:00</th>\n",
       "      <td>966.0</td>\n",
       "    </tr>\n",
       "    <tr>\n",
       "      <th>1975-06-01 01:00:00</th>\n",
       "      <td>937.0</td>\n",
       "    </tr>\n",
       "    <tr>\n",
       "      <th>1975-07-01 01:00:00</th>\n",
       "      <td>896.0</td>\n",
       "    </tr>\n",
       "    <tr>\n",
       "      <th>1975-08-01 01:00:00</th>\n",
       "      <td>858.0</td>\n",
       "    </tr>\n",
       "    <tr>\n",
       "      <th>1975-09-01 01:00:00</th>\n",
       "      <td>817.0</td>\n",
       "    </tr>\n",
       "    <tr>\n",
       "      <th>1975-10-01 01:00:00</th>\n",
       "      <td>827.0</td>\n",
       "    </tr>\n",
       "    <tr>\n",
       "      <th>1975-11-01 01:00:00</th>\n",
       "      <td>797.0</td>\n",
       "    </tr>\n",
       "    <tr>\n",
       "      <th>1975-12-01 01:00:00</th>\n",
       "      <td>843.0</td>\n",
       "    </tr>\n",
       "  </tbody>\n",
       "</table>\n",
       "</div>"
      ],
      "text/plain": [
       "                     Milk Production\n",
       "Month                               \n",
       "1975-01-01 01:00:00            834.0\n",
       "1975-02-01 01:00:00            782.0\n",
       "1975-03-01 01:00:00            892.0\n",
       "1975-04-01 01:00:00            903.0\n",
       "1975-05-01 01:00:00            966.0\n",
       "1975-06-01 01:00:00            937.0\n",
       "1975-07-01 01:00:00            896.0\n",
       "1975-08-01 01:00:00            858.0\n",
       "1975-09-01 01:00:00            817.0\n",
       "1975-10-01 01:00:00            827.0\n",
       "1975-11-01 01:00:00            797.0\n",
       "1975-12-01 01:00:00            843.0"
      ]
     },
     "execution_count": 26,
     "metadata": {},
     "output_type": "execute_result"
    }
   ],
   "source": [
    "test_set"
   ]
  },
  {
   "cell_type": "code",
   "execution_count": 27,
   "metadata": {
    "collapsed": false
   },
   "outputs": [
    {
     "data": {
      "text/plain": [
       "array([[ 0.67548077],\n",
       "       [ 0.55048077],\n",
       "       [ 0.81490385],\n",
       "       [ 0.84134615],\n",
       "       [ 0.99278846],\n",
       "       [ 0.92307692],\n",
       "       [ 0.82451923],\n",
       "       [ 0.73317308],\n",
       "       [ 0.63461538],\n",
       "       [ 0.65865385],\n",
       "       [ 0.58653846],\n",
       "       [ 0.69711538]])"
      ]
     },
     "execution_count": 27,
     "metadata": {},
     "output_type": "execute_result"
    }
   ],
   "source": [
    "scaled_test"
   ]
  },
  {
   "cell_type": "markdown",
   "metadata": {},
   "source": [
    "#### Generate Session - (Future Session)"
   ]
  },
  {
   "cell_type": "code",
   "execution_count": 28,
   "metadata": {
    "collapsed": false
   },
   "outputs": [
    {
     "name": "stdout",
     "output_type": "stream",
     "text": [
      "INFO:tensorflow:Restoring parameters from ./time_series_milk_production\n"
     ]
    }
   ],
   "source": [
    "with tf.Session() as sess:\n",
    "    \n",
    "    saver.restore(sess,\"./time_series_milk_production\")\n",
    "    \n",
    "    train_seed = list(scaled_train[-12:])\n",
    "    \n",
    "    for iterations in range(12):\n",
    "        X_batch = np.array(train_seed[-num_time_steps:]).reshape(1,num_time_steps,1)\n",
    "        \n",
    "        y_pred = sess.run(outputs,feed_dict={X:X_batch})\n",
    "        \n",
    "        train_seed.append(y_pred[0,-1,0])\n",
    "        \n",
    "        "
   ]
  },
  {
   "cell_type": "code",
   "execution_count": 46,
   "metadata": {
    "collapsed": false
   },
   "outputs": [
    {
     "data": {
      "text/plain": [
       "array([ 0.61765623], dtype=float32)"
      ]
     },
     "execution_count": 46,
     "metadata": {},
     "output_type": "execute_result"
    }
   ],
   "source": [
    "y_pred[0,-1]"
   ]
  },
  {
   "cell_type": "code",
   "execution_count": 29,
   "metadata": {
    "collapsed": false
   },
   "outputs": [
    {
     "data": {
      "text/plain": [
       "[array([ 0.66105769]),\n",
       " array([ 0.54086538]),\n",
       " array([ 0.80769231]),\n",
       " array([ 0.83894231]),\n",
       " array([ 1.]),\n",
       " array([ 0.94711538]),\n",
       " array([ 0.85336538]),\n",
       " array([ 0.75480769]),\n",
       " array([ 0.62980769]),\n",
       " array([ 0.62259615]),\n",
       " array([ 0.52884615]),\n",
       " array([ 0.625]),\n",
       " 0.6481564,\n",
       " 0.5678091,\n",
       " 0.78931069,\n",
       " 0.81243026,\n",
       " 0.91603148,\n",
       " 0.84518611,\n",
       " 0.75688481,\n",
       " 0.66611791,\n",
       " 0.59285629,\n",
       " 0.60782051,\n",
       " 0.55278772,\n",
       " 0.61765623]"
      ]
     },
     "execution_count": 29,
     "metadata": {},
     "output_type": "execute_result"
    }
   ],
   "source": [
    "train_seed"
   ]
  },
  {
   "cell_type": "markdown",
   "metadata": {},
   "source": [
    "** The last 12 outputs in train seed are the predicted values \n",
    "They are still in scaled state, should apply inverse transform to bring them to the normal form ** "
   ]
  },
  {
   "cell_type": "code",
   "execution_count": 30,
   "metadata": {
    "collapsed": true
   },
   "outputs": [],
   "source": [
    "results = scaler.inverse_transform(np.array(train_seed[12:]).reshape(12,1))"
   ]
  },
  {
   "cell_type": "code",
   "execution_count": 31,
   "metadata": {
    "collapsed": false
   },
   "outputs": [
    {
     "name": "stderr",
     "output_type": "stream",
     "text": [
      "/Library/Frameworks/Python.framework/Versions/3.6/lib/python3.6/site-packages/ipykernel_launcher.py:1: SettingWithCopyWarning: \n",
      "A value is trying to be set on a copy of a slice from a DataFrame.\n",
      "Try using .loc[row_indexer,col_indexer] = value instead\n",
      "\n",
      "See the caveats in the documentation: http://pandas.pydata.org/pandas-docs/stable/indexing.html#indexing-view-versus-copy\n",
      "  \"\"\"Entry point for launching an IPython kernel.\n"
     ]
    }
   ],
   "source": [
    "test_set['Generated'] = results"
   ]
  },
  {
   "cell_type": "code",
   "execution_count": 32,
   "metadata": {
    "collapsed": false
   },
   "outputs": [
    {
     "data": {
      "text/html": [
       "<div>\n",
       "<style>\n",
       "    .dataframe thead tr:only-child th {\n",
       "        text-align: right;\n",
       "    }\n",
       "\n",
       "    .dataframe thead th {\n",
       "        text-align: left;\n",
       "    }\n",
       "\n",
       "    .dataframe tbody tr th {\n",
       "        vertical-align: top;\n",
       "    }\n",
       "</style>\n",
       "<table border=\"1\" class=\"dataframe\">\n",
       "  <thead>\n",
       "    <tr style=\"text-align: right;\">\n",
       "      <th></th>\n",
       "      <th>Milk Production</th>\n",
       "      <th>Generated</th>\n",
       "    </tr>\n",
       "    <tr>\n",
       "      <th>Month</th>\n",
       "      <th></th>\n",
       "      <th></th>\n",
       "    </tr>\n",
       "  </thead>\n",
       "  <tbody>\n",
       "    <tr>\n",
       "      <th>1975-01-01 01:00:00</th>\n",
       "      <td>834.0</td>\n",
       "      <td>822.633057</td>\n",
       "    </tr>\n",
       "    <tr>\n",
       "      <th>1975-02-01 01:00:00</th>\n",
       "      <td>782.0</td>\n",
       "      <td>789.208557</td>\n",
       "    </tr>\n",
       "    <tr>\n",
       "      <th>1975-03-01 01:00:00</th>\n",
       "      <td>892.0</td>\n",
       "      <td>881.353210</td>\n",
       "    </tr>\n",
       "    <tr>\n",
       "      <th>1975-04-01 01:00:00</th>\n",
       "      <td>903.0</td>\n",
       "      <td>890.971008</td>\n",
       "    </tr>\n",
       "    <tr>\n",
       "      <th>1975-05-01 01:00:00</th>\n",
       "      <td>966.0</td>\n",
       "      <td>934.069092</td>\n",
       "    </tr>\n",
       "    <tr>\n",
       "      <th>1975-06-01 01:00:00</th>\n",
       "      <td>937.0</td>\n",
       "      <td>904.597473</td>\n",
       "    </tr>\n",
       "    <tr>\n",
       "      <th>1975-07-01 01:00:00</th>\n",
       "      <td>896.0</td>\n",
       "      <td>867.864075</td>\n",
       "    </tr>\n",
       "    <tr>\n",
       "      <th>1975-08-01 01:00:00</th>\n",
       "      <td>858.0</td>\n",
       "      <td>830.105042</td>\n",
       "    </tr>\n",
       "    <tr>\n",
       "      <th>1975-09-01 01:00:00</th>\n",
       "      <td>817.0</td>\n",
       "      <td>799.628174</td>\n",
       "    </tr>\n",
       "    <tr>\n",
       "      <th>1975-10-01 01:00:00</th>\n",
       "      <td>827.0</td>\n",
       "      <td>805.853333</td>\n",
       "    </tr>\n",
       "    <tr>\n",
       "      <th>1975-11-01 01:00:00</th>\n",
       "      <td>797.0</td>\n",
       "      <td>782.959717</td>\n",
       "    </tr>\n",
       "    <tr>\n",
       "      <th>1975-12-01 01:00:00</th>\n",
       "      <td>843.0</td>\n",
       "      <td>809.944946</td>\n",
       "    </tr>\n",
       "  </tbody>\n",
       "</table>\n",
       "</div>"
      ],
      "text/plain": [
       "                     Milk Production   Generated\n",
       "Month                                           \n",
       "1975-01-01 01:00:00            834.0  822.633057\n",
       "1975-02-01 01:00:00            782.0  789.208557\n",
       "1975-03-01 01:00:00            892.0  881.353210\n",
       "1975-04-01 01:00:00            903.0  890.971008\n",
       "1975-05-01 01:00:00            966.0  934.069092\n",
       "1975-06-01 01:00:00            937.0  904.597473\n",
       "1975-07-01 01:00:00            896.0  867.864075\n",
       "1975-08-01 01:00:00            858.0  830.105042\n",
       "1975-09-01 01:00:00            817.0  799.628174\n",
       "1975-10-01 01:00:00            827.0  805.853333\n",
       "1975-11-01 01:00:00            797.0  782.959717\n",
       "1975-12-01 01:00:00            843.0  809.944946"
      ]
     },
     "execution_count": 32,
     "metadata": {},
     "output_type": "execute_result"
    }
   ],
   "source": [
    "test_set"
   ]
  },
  {
   "cell_type": "markdown",
   "metadata": {},
   "source": [
    "#### As we can see in the below diagram the we are overestimating the predicted values"
   ]
  },
  {
   "cell_type": "code",
   "execution_count": 33,
   "metadata": {
    "collapsed": false
   },
   "outputs": [
    {
     "data": {
      "text/plain": [
       "<matplotlib.axes._subplots.AxesSubplot at 0x115cdc898>"
      ]
     },
     "execution_count": 33,
     "metadata": {},
     "output_type": "execute_result"
    },
    {
     "data": {
      "image/png": "[encoded data removed]",
      "text/plain": [
       "<matplotlib.figure.Figure at 0x115c19940>"
      ]
     },
     "metadata": {},
     "output_type": "display_data"
    }
   ],
   "source": [
    "test_set.plot()\n"
   ]
  },
  {
   "cell_type": "markdown",
   "metadata": {},
   "source": [
    "### To overcome the above problem we will be using the GRU cell type above "
   ]
  },
  {
   "cell_type": "code",
   "execution_count": 34,
   "metadata": {
    "collapsed": true
   },
   "outputs": [],
   "source": [
    "import matplotlib.image as mpimage\n"
   ]
  },
  {
   "cell_type": "code",
   "execution_count": 36,
   "metadata": {
    "collapsed": false
   },
   "outputs": [
    {
     "data": {
      "text/plain": [
       "<matplotlib.image.AxesImage at 0x1173258d0>"
      ]
     },
     "execution_count": 36,
     "metadata": {},
     "output_type": "execute_result"
    },
    {
     "data": {
      "image/png": "[encoded data removed]",
      "text/plain": [
       "<matplotlib.figure.Figure at 0x10793ccc0>"
      ]
     },
     "metadata": {},
     "output_type": "display_data"
    }
   ],
   "source": [
    "img = mpimage.imread('./PredictedPlot_GRUcell.png')\n",
    "plt.imshow(img)"
   ]
  },
  {
   "cell_type": "code",
   "execution_count": null,
   "metadata": {
    "collapsed": true
   },
   "outputs": [],
   "source": []
  }
 ],
 "metadata": {
  "kernelspec": {
   "display_name": "Python 3",
   "language": "python",
   "name": "python3"
  },
  "language_info": {
   "codemirror_mode": {
    "name": "ipython",
    "version": 3
   },
   "file_extension": ".py",
   "mimetype": "text/x-python",
   "name": "python",
   "nbconvert_exporter": "python",
   "pygments_lexer": "ipython3",
   "version": "3.6.0"
  }
 },
 "nbformat": 4,
 "nbformat_minor": 2
}
