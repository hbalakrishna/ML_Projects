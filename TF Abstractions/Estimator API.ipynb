{
 "cells": [
  {
   "cell_type": "code",
   "execution_count": 1,
   "metadata": {
    "collapsed": true
   },
   "outputs": [],
   "source": [
    "from sklearn.datasets import load_wine"
   ]
  },
  {
   "cell_type": "code",
   "execution_count": 2,
   "metadata": {
    "collapsed": true
   },
   "outputs": [],
   "source": [
    "wine_data = load_wine()"
   ]
  },
  {
   "cell_type": "code",
   "execution_count": 3,
   "metadata": {
    "collapsed": false
   },
   "outputs": [
    {
     "data": {
      "text/plain": [
       "sklearn.utils.Bunch"
      ]
     },
     "execution_count": 3,
     "metadata": {},
     "output_type": "execute_result"
    }
   ],
   "source": [
    "type(wine_data)"
   ]
  },
  {
   "cell_type": "code",
   "execution_count": 4,
   "metadata": {
    "collapsed": false
   },
   "outputs": [
    {
     "data": {
      "text/plain": [
       "dict_keys(['data', 'target', 'target_names', 'DESCR', 'feature_names'])"
      ]
     },
     "execution_count": 4,
     "metadata": {},
     "output_type": "execute_result"
    }
   ],
   "source": [
    "wine_data.keys()"
   ]
  },
  {
   "cell_type": "code",
   "execution_count": 5,
   "metadata": {
    "collapsed": true
   },
   "outputs": [],
   "source": [
    "feat_data = wine_data['data']"
   ]
  },
  {
   "cell_type": "code",
   "execution_count": 6,
   "metadata": {
    "collapsed": true
   },
   "outputs": [],
   "source": [
    "labels = wine_data['target']"
   ]
  },
  {
   "cell_type": "code",
   "execution_count": 7,
   "metadata": {
    "collapsed": true
   },
   "outputs": [],
   "source": [
    "from sklearn.model_selection import train_test_split"
   ]
  },
  {
   "cell_type": "markdown",
   "metadata": {},
   "source": [
    "** Train Test split ** "
   ]
  },
  {
   "cell_type": "code",
   "execution_count": 9,
   "metadata": {
    "collapsed": true
   },
   "outputs": [],
   "source": [
    "X_train, X_test, y_train, y_test = train_test_split(feat_data, labels, test_size = .3)"
   ]
  },
  {
   "cell_type": "markdown",
   "metadata": {},
   "source": [
    "** Minmax Scaler ** "
   ]
  },
  {
   "cell_type": "code",
   "execution_count": 10,
   "metadata": {
    "collapsed": true
   },
   "outputs": [],
   "source": [
    "from sklearn.preprocessing import MinMaxScaler"
   ]
  },
  {
   "cell_type": "code",
   "execution_count": 11,
   "metadata": {
    "collapsed": true
   },
   "outputs": [],
   "source": [
    "scaler = MinMaxScaler()"
   ]
  },
  {
   "cell_type": "code",
   "execution_count": 12,
   "metadata": {
    "collapsed": true
   },
   "outputs": [],
   "source": [
    "scaled_xtrain = scaler.fit_transform(X_train)"
   ]
  },
  {
   "cell_type": "code",
   "execution_count": 13,
   "metadata": {
    "collapsed": true
   },
   "outputs": [],
   "source": [
    "scaled_xtest = scaler.transform(X_test)"
   ]
  },
  {
   "cell_type": "markdown",
   "metadata": {},
   "source": [
    "### Estimator API "
   ]
  },
  {
   "cell_type": "code",
   "execution_count": 14,
   "metadata": {
    "collapsed": true
   },
   "outputs": [],
   "source": [
    "import tensorflow as tf \n",
    "from tensorflow import estimator"
   ]
  },
  {
   "cell_type": "code",
   "execution_count": 16,
   "metadata": {
    "collapsed": false
   },
   "outputs": [
    {
     "data": {
      "text/plain": [
       "(124, 13)"
      ]
     },
     "execution_count": 16,
     "metadata": {},
     "output_type": "execute_result"
    }
   ],
   "source": [
    "X_train.shape"
   ]
  },
  {
   "cell_type": "code",
   "execution_count": 17,
   "metadata": {
    "collapsed": true
   },
   "outputs": [],
   "source": [
    "# Create feature columns for estimator API "
   ]
  },
  {
   "cell_type": "code",
   "execution_count": 18,
   "metadata": {
    "collapsed": true
   },
   "outputs": [],
   "source": [
    "feat_cols = [tf.feature_column.numeric_column('x', shape=[13])]"
   ]
  },
  {
   "cell_type": "markdown",
   "metadata": {},
   "source": [
    "** Keep the hidden units size as small as possible otherwise this will lead to overfit the data ** "
   ]
  },
  {
   "cell_type": "code",
   "execution_count": 19,
   "metadata": {
    "collapsed": false
   },
   "outputs": [
    {
     "name": "stdout",
     "output_type": "stream",
     "text": [
      "INFO:tensorflow:Using default config.\n"
     ]
    },
    {
     "name": "stderr",
     "output_type": "stream",
     "text": [
      "INFO:tensorflow:Using default config.\n"
     ]
    },
    {
     "name": "stdout",
     "output_type": "stream",
     "text": [
      "WARNING:tensorflow:Using temporary folder as model directory: /var/folders/g6/7_c7p81525gcnw_3qlcv5j2w0000gn/T/tmp2b9b3pmp\n"
     ]
    },
    {
     "name": "stderr",
     "output_type": "stream",
     "text": [
      "WARNING:tensorflow:Using temporary folder as model directory: /var/folders/g6/7_c7p81525gcnw_3qlcv5j2w0000gn/T/tmp2b9b3pmp\n"
     ]
    },
    {
     "name": "stdout",
     "output_type": "stream",
     "text": [
      "INFO:tensorflow:Using config: {'_model_dir': '/var/folders/g6/7_c7p81525gcnw_3qlcv5j2w0000gn/T/tmp2b9b3pmp', '_tf_random_seed': 1, '_save_summary_steps': 100, '_save_checkpoints_secs': 600, '_save_checkpoints_steps': None, '_session_config': None, '_keep_checkpoint_max': 5, '_keep_checkpoint_every_n_hours': 10000, '_log_step_count_steps': 100}\n"
     ]
    },
    {
     "name": "stderr",
     "output_type": "stream",
     "text": [
      "INFO:tensorflow:Using config: {'_model_dir': '/var/folders/g6/7_c7p81525gcnw_3qlcv5j2w0000gn/T/tmp2b9b3pmp', '_tf_random_seed': 1, '_save_summary_steps': 100, '_save_checkpoints_secs': 600, '_save_checkpoints_steps': None, '_session_config': None, '_keep_checkpoint_max': 5, '_keep_checkpoint_every_n_hours': 10000, '_log_step_count_steps': 100}\n"
     ]
    }
   ],
   "source": [
    "deep_models = estimator.DNNClassifier(hidden_units=[13,13,13], feature_columns=feat_cols, n_classes=3, \n",
    "                                      optimizer=tf.train.GradientDescentOptimizer(learning_rate=0.01))"
   ]
  },
  {
   "cell_type": "markdown",
   "metadata": {},
   "source": [
    "** Input Function ** "
   ]
  },
  {
   "cell_type": "code",
   "execution_count": 20,
   "metadata": {
    "collapsed": true
   },
   "outputs": [],
   "source": [
    "input_fn = estimator.inputs.numpy_input_fn(x = {'x':scaled_x_train}, y = y_train, batch_size=10, \n",
    "                                           shuffle=True, num_epochs=5)"
   ]
  },
  {
   "cell_type": "markdown",
   "metadata": {},
   "source": [
    "** Train the model ** "
   ]
  },
  {
   "cell_type": "code",
   "execution_count": 21,
   "metadata": {
    "collapsed": false
   },
   "outputs": [
    {
     "name": "stdout",
     "output_type": "stream",
     "text": [
      "INFO:tensorflow:Create CheckpointSaverHook.\n"
     ]
    },
    {
     "name": "stderr",
     "output_type": "stream",
     "text": [
      "INFO:tensorflow:Create CheckpointSaverHook.\n"
     ]
    },
    {
     "name": "stdout",
     "output_type": "stream",
     "text": [
      "INFO:tensorflow:Saving checkpoints for 1 into /var/folders/g6/7_c7p81525gcnw_3qlcv5j2w0000gn/T/tmp2b9b3pmp/model.ckpt.\n"
     ]
    },
    {
     "name": "stderr",
     "output_type": "stream",
     "text": [
      "INFO:tensorflow:Saving checkpoints for 1 into /var/folders/g6/7_c7p81525gcnw_3qlcv5j2w0000gn/T/tmp2b9b3pmp/model.ckpt.\n"
     ]
    },
    {
     "name": "stdout",
     "output_type": "stream",
     "text": [
      "INFO:tensorflow:loss = 10.1786, step = 1\n"
     ]
    },
    {
     "name": "stderr",
     "output_type": "stream",
     "text": [
      "INFO:tensorflow:loss = 10.1786, step = 1\n"
     ]
    },
    {
     "name": "stdout",
     "output_type": "stream",
     "text": [
      "INFO:tensorflow:Saving checkpoints for 62 into /var/folders/g6/7_c7p81525gcnw_3qlcv5j2w0000gn/T/tmp2b9b3pmp/model.ckpt.\n"
     ]
    },
    {
     "name": "stderr",
     "output_type": "stream",
     "text": [
      "INFO:tensorflow:Saving checkpoints for 62 into /var/folders/g6/7_c7p81525gcnw_3qlcv5j2w0000gn/T/tmp2b9b3pmp/model.ckpt.\n"
     ]
    },
    {
     "name": "stdout",
     "output_type": "stream",
     "text": [
      "INFO:tensorflow:Loss for final step: 3.35232.\n"
     ]
    },
    {
     "name": "stderr",
     "output_type": "stream",
     "text": [
      "INFO:tensorflow:Loss for final step: 3.35232.\n"
     ]
    },
    {
     "data": {
      "text/plain": [
       "<tensorflow.python.estimator.canned.dnn.DNNClassifier at 0x114358a58>"
      ]
     },
     "execution_count": 21,
     "metadata": {},
     "output_type": "execute_result"
    }
   ],
   "source": [
    "deep_models.train(input_fn=input_fn, steps=500)"
   ]
  },
  {
   "cell_type": "code",
   "execution_count": 23,
   "metadata": {
    "collapsed": false
   },
   "outputs": [],
   "source": [
    "input_fn_eval = estimator.inputs.numpy_input_fn(x={'x':scaled_xtest}, shuffle=False)"
   ]
  },
  {
   "cell_type": "markdown",
   "metadata": {},
   "source": [
    "** Predictions ** "
   ]
  },
  {
   "cell_type": "code",
   "execution_count": 33,
   "metadata": {
    "collapsed": false
   },
   "outputs": [
    {
     "name": "stdout",
     "output_type": "stream",
     "text": [
      "INFO:tensorflow:Restoring parameters from /var/folders/g6/7_c7p81525gcnw_3qlcv5j2w0000gn/T/tmp2b9b3pmp/model.ckpt-62\n"
     ]
    },
    {
     "name": "stderr",
     "output_type": "stream",
     "text": [
      "INFO:tensorflow:Restoring parameters from /var/folders/g6/7_c7p81525gcnw_3qlcv5j2w0000gn/T/tmp2b9b3pmp/model.ckpt-62\n"
     ]
    }
   ],
   "source": [
    "predictions = list(deep_models.predict(input_fn=input_fn_eval))"
   ]
  },
  {
   "cell_type": "code",
   "execution_count": 34,
   "metadata": {
    "collapsed": false
   },
   "outputs": [
    {
     "data": {
      "text/plain": [
       "[{'class_ids': array([1]),\n",
       "  'classes': array([b'1'], dtype=object),\n",
       "  'logits': array([ 0.18944056,  0.72198105, -2.18436956], dtype=float32),\n",
       "  'probabilities': array([ 0.35760531,  0.60909265,  0.03330208], dtype=float32)},\n",
       " {'class_ids': array([1]),\n",
       "  'classes': array([b'1'], dtype=object),\n",
       "  'logits': array([-0.36576962,  1.63246727, -3.29100871], dtype=float32),\n",
       "  'probabilities': array([ 0.1186283 ,  0.87500709,  0.00636463], dtype=float32)},\n",
       " {'class_ids': array([0]),\n",
       "  'classes': array([b'0'], dtype=object),\n",
       "  'logits': array([ 1.66940367, -0.31419384, -2.43068218], dtype=float32),\n",
       "  'probabilities': array([ 0.86644244,  0.11919945,  0.01435804], dtype=float32)},\n",
       " {'class_ids': array([0]),\n",
       "  'classes': array([b'0'], dtype=object),\n",
       "  'logits': array([ 1.24388385, -0.01572615, -2.16283202], dtype=float32),\n",
       "  'probabilities': array([ 0.75935072,  0.21547692,  0.02517239], dtype=float32)},\n",
       " {'class_ids': array([1]),\n",
       "  'classes': array([b'1'], dtype=object),\n",
       "  'logits': array([-1.65487468,  1.52558804, -1.68772888], dtype=float32),\n",
       "  'probabilities': array([ 0.03842376,  0.92439437,  0.03718189], dtype=float32)},\n",
       " {'class_ids': array([1]),\n",
       "  'classes': array([b'1'], dtype=object),\n",
       "  'logits': array([-1.10119104,  1.71470118, -2.46335363], dtype=float32),\n",
       "  'probabilities': array([ 0.05566633,  0.9300772 ,  0.0142565 ], dtype=float32)},\n",
       " {'class_ids': array([1]),\n",
       "  'classes': array([b'1'], dtype=object),\n",
       "  'logits': array([-0.93652105,  1.91154885, -3.10786891], dtype=float32),\n",
       "  'probabilities': array([ 0.05444111,  0.93935126,  0.00620758], dtype=float32)},\n",
       " {'class_ids': array([0]),\n",
       "  'classes': array([b'0'], dtype=object),\n",
       "  'logits': array([ 1.65482819, -0.32087606, -2.40291643], dtype=float32),\n",
       "  'probabilities': array([ 0.86508811,  0.11995626,  0.01495562], dtype=float32)},\n",
       " {'class_ids': array([0]),\n",
       "  'classes': array([b'0'], dtype=object),\n",
       "  'logits': array([ 1.51289356, -0.30880731, -2.1869185 ], dtype=float32),\n",
       "  'probabilities': array([ 0.84283018,  0.13632813,  0.02084165], dtype=float32)},\n",
       " {'class_ids': array([1]),\n",
       "  'classes': array([b'1'], dtype=object),\n",
       "  'logits': array([-1.78570044,  1.24026835, -1.2925272 ], dtype=float32),\n",
       "  'probabilities': array([ 0.04300803,  0.8865661 ,  0.07042584], dtype=float32)},\n",
       " {'class_ids': array([2]),\n",
       "  'classes': array([b'2'], dtype=object),\n",
       "  'logits': array([-0.19849657, -1.27475488,  0.94716805], dtype=float32),\n",
       "  'probabilities': array([ 0.22294562,  0.07599515,  0.70105928], dtype=float32)},\n",
       " {'class_ids': array([1]),\n",
       "  'classes': array([b'1'], dtype=object),\n",
       "  'logits': array([-1.78089035,  1.85150933, -2.25572848], dtype=float32),\n",
       "  'probabilities': array([ 0.02536436,  0.95885938,  0.01577627], dtype=float32)},\n",
       " {'class_ids': array([1]),\n",
       "  'classes': array([b'1'], dtype=object),\n",
       "  'logits': array([ 0.1774344 ,  1.26151407, -3.11605167], dtype=float32),\n",
       "  'probabilities': array([ 0.25038549,  0.74031913,  0.00929536], dtype=float32)},\n",
       " {'class_ids': array([0]),\n",
       "  'classes': array([b'0'], dtype=object),\n",
       "  'logits': array([ 1.92186046, -0.80410063, -2.14197874], dtype=float32),\n",
       "  'probabilities': array([ 0.92364573,  0.0604833 ,  0.01587094], dtype=float32)},\n",
       " {'class_ids': array([1]),\n",
       "  'classes': array([b'1'], dtype=object),\n",
       "  'logits': array([-0.58012122,  1.37181163, -2.47226858], dtype=float32),\n",
       "  'probabilities': array([ 0.1220549 ,  0.85954559,  0.0183995 ], dtype=float32)},\n",
       " {'class_ids': array([0]),\n",
       "  'classes': array([b'0'], dtype=object),\n",
       "  'logits': array([ 1.15340447,  0.3220495 , -2.73757124], dtype=float32),\n",
       "  'probabilities': array([ 0.68686777,  0.29910263,  0.01402955], dtype=float32)},\n",
       " {'class_ids': array([2]),\n",
       "  'classes': array([b'2'], dtype=object),\n",
       "  'logits': array([-1.6033144 , -0.43161488,  2.0306859 ], dtype=float32),\n",
       "  'probabilities': array([ 0.02375779,  0.07667764,  0.89956456], dtype=float32)},\n",
       " {'class_ids': array([0]),\n",
       "  'classes': array([b'0'], dtype=object),\n",
       "  'logits': array([ 1.48590565, -0.12670505, -2.40189552], dtype=float32),\n",
       "  'probabilities': array([ 0.81976831,  0.1634343 ,  0.01679734], dtype=float32)},\n",
       " {'class_ids': array([0]),\n",
       "  'classes': array([b'0'], dtype=object),\n",
       "  'logits': array([ 1.87027287, -0.47917676, -2.5185492 ], dtype=float32),\n",
       "  'probabilities': array([ 0.90265989,  0.08613331,  0.01120683], dtype=float32)},\n",
       " {'class_ids': array([1]),\n",
       "  'classes': array([b'1'], dtype=object),\n",
       "  'logits': array([-1.77484083,  2.05378366, -2.74614954], dtype=float32),\n",
       "  'probabilities': array([ 0.02110693,  0.97090226,  0.00799081], dtype=float32)},\n",
       " {'class_ids': array([1]),\n",
       "  'classes': array([b'1'], dtype=object),\n",
       "  'logits': array([-0.42123264,  1.87748361, -3.78075194], dtype=float32),\n",
       "  'probabilities': array([ 0.09094102,  0.90589863,  0.00316038], dtype=float32)},\n",
       " {'class_ids': array([1]),\n",
       "  'classes': array([b'1'], dtype=object),\n",
       "  'logits': array([ 0.62931567,  0.70220351, -2.79588747], dtype=float32),\n",
       "  'probabilities': array([ 0.47434896,  0.51021445,  0.01543658], dtype=float32)},\n",
       " {'class_ids': array([1]),\n",
       "  'classes': array([b'1'], dtype=object),\n",
       "  'logits': array([-0.65785474,  1.57180905, -2.62669611], dtype=float32),\n",
       "  'probabilities': array([ 0.09581886,  0.8908031 ,  0.01337809], dtype=float32)},\n",
       " {'class_ids': array([0]),\n",
       "  'classes': array([b'0'], dtype=object),\n",
       "  'logits': array([ 1.19978547,  0.073017  , -2.20337105], dtype=float32),\n",
       "  'probabilities': array([ 0.73673135,  0.23875903,  0.02450965], dtype=float32)},\n",
       " {'class_ids': array([1]),\n",
       "  'classes': array([b'1'], dtype=object),\n",
       "  'logits': array([-0.97250891,  1.61715162, -2.51011944], dtype=float32),\n",
       "  'probabilities': array([ 0.06877511,  0.91644549,  0.01477936], dtype=float32)},\n",
       " {'class_ids': array([2]),\n",
       "  'classes': array([b'2'], dtype=object),\n",
       "  'logits': array([-1.75995541,  0.17780864,  0.77457237], dtype=float32),\n",
       "  'probabilities': array([ 0.04865308,  0.33780852,  0.61353844], dtype=float32)},\n",
       " {'class_ids': array([0]),\n",
       "  'classes': array([b'0'], dtype=object),\n",
       "  'logits': array([ 1.13617742,  0.40694916, -2.81152773], dtype=float32),\n",
       "  'probabilities': array([ 0.66596526,  0.3211824 ,  0.01285242], dtype=float32)},\n",
       " {'class_ids': array([0]),\n",
       "  'classes': array([b'0'], dtype=object),\n",
       "  'logits': array([ 1.46255732, -0.76245177, -1.55410933], dtype=float32),\n",
       "  'probabilities': array([ 0.86428142,  0.09339983,  0.04231881], dtype=float32)},\n",
       " {'class_ids': array([2]),\n",
       "  'classes': array([b'2'], dtype=object),\n",
       "  'logits': array([-1.47658324, -0.41007102,  1.19189644], dtype=float32),\n",
       "  'probabilities': array([ 0.05457543,  0.15855414,  0.78687036], dtype=float32)},\n",
       " {'class_ids': array([0]),\n",
       "  'classes': array([b'0'], dtype=object),\n",
       "  'logits': array([ 0.66683811,  0.13150138, -1.6712563 ], dtype=float32),\n",
       "  'probabilities': array([ 0.59453619,  0.34808436,  0.0573795 ], dtype=float32)},\n",
       " {'class_ids': array([0]),\n",
       "  'classes': array([b'0'], dtype=object),\n",
       "  'logits': array([ 1.90036809, -0.57675016, -2.40737748], dtype=float32),\n",
       "  'probabilities': array([ 0.91120434,  0.0765274 ,  0.01226834], dtype=float32)},\n",
       " {'class_ids': array([2]),\n",
       "  'classes': array([b'2'], dtype=object),\n",
       "  'logits': array([-1.66949654,  0.12713799,  0.60025638], dtype=float32),\n",
       "  'probabilities': array([ 0.05985754,  0.3609004 ,  0.57924205], dtype=float32)},\n",
       " {'class_ids': array([1]),\n",
       "  'classes': array([b'1'], dtype=object),\n",
       "  'logits': array([-0.57814699,  0.92144006, -1.58369994], dtype=float32),\n",
       "  'probabilities': array([ 0.17106646,  0.76635021,  0.06258335], dtype=float32)},\n",
       " {'class_ids': array([0]),\n",
       "  'classes': array([b'0'], dtype=object),\n",
       "  'logits': array([ 1.5967083 , -0.05529636, -2.66452456], dtype=float32),\n",
       "  'probabilities': array([ 0.82934541,  0.15895674,  0.01169784], dtype=float32)},\n",
       " {'class_ids': array([0]),\n",
       "  'classes': array([b'0'], dtype=object),\n",
       "  'logits': array([ 0.9716503 ,  0.58005768, -3.07050657], dtype=float32),\n",
       "  'probabilities': array([ 0.59047949,  0.39915198,  0.01036856], dtype=float32)},\n",
       " {'class_ids': array([1]),\n",
       "  'classes': array([b'1'], dtype=object),\n",
       "  'logits': array([-0.29086137,  0.18799818, -1.07412338], dtype=float32),\n",
       "  'probabilities': array([ 0.32561141,  0.52561247,  0.14877611], dtype=float32)},\n",
       " {'class_ids': array([1]),\n",
       "  'classes': array([b'1'], dtype=object),\n",
       "  'logits': array([-0.32472241,  1.61408269, -3.18124533], dtype=float32),\n",
       "  'probabilities': array([ 0.12487655,  0.8679471 ,  0.00717643], dtype=float32)},\n",
       " {'class_ids': array([2]),\n",
       "  'classes': array([b'2'], dtype=object),\n",
       "  'logits': array([-1.66185069, -0.60413229,  1.96224475], dtype=float32),\n",
       "  'probabilities': array([ 0.02417176,  0.06960966,  0.90621859], dtype=float32)},\n",
       " {'class_ids': array([1]),\n",
       "  'classes': array([b'1'], dtype=object),\n",
       "  'logits': array([ 0.23595698,  0.7467128 , -2.38532305], dtype=float32),\n",
       "  'probabilities': array([ 0.36506206,  0.60839432,  0.02654357], dtype=float32)},\n",
       " {'class_ids': array([1]),\n",
       "  'classes': array([b'1'], dtype=object),\n",
       "  'logits': array([-1.59783494,  2.24093652, -3.17841125], dtype=float32),\n",
       "  'probabilities': array([ 0.02097571,  0.97470629,  0.00431798], dtype=float32)},\n",
       " {'class_ids': array([2]),\n",
       "  'classes': array([b'2'], dtype=object),\n",
       "  'logits': array([-1.40130556,  0.07722619,  0.94021004], dtype=float32),\n",
       "  'probabilities': array([ 0.06335738,  0.27791712,  0.65872544], dtype=float32)},\n",
       " {'class_ids': array([0]),\n",
       "  'classes': array([b'0'], dtype=object),\n",
       "  'logits': array([ 1.29500461, -0.00953621, -2.29033852], dtype=float32),\n",
       "  'probabilities': array([ 0.76980859,  0.20884681,  0.0213446 ], dtype=float32)},\n",
       " {'class_ids': array([2]),\n",
       "  'classes': array([b'2'], dtype=object),\n",
       "  'logits': array([-2.24710107, -0.04661113,  1.44125748], dtype=float32),\n",
       "  'probabilities': array([ 0.01999656,  0.18055765,  0.79944581], dtype=float32)},\n",
       " {'class_ids': array([2]),\n",
       "  'classes': array([b'2'], dtype=object),\n",
       "  'logits': array([-1.98958194, -0.73917991,  2.16411495], dtype=float32),\n",
       "  'probabilities': array([ 0.01467121,  0.05122816,  0.93410069], dtype=float32)},\n",
       " {'class_ids': array([1]),\n",
       "  'classes': array([b'1'], dtype=object),\n",
       "  'logits': array([-1.75120878,  1.29918551, -0.98447436], dtype=float32),\n",
       "  'probabilities': array([ 0.04119227,  0.87013203,  0.08867563], dtype=float32)},\n",
       " {'class_ids': array([1]),\n",
       "  'classes': array([b'1'], dtype=object),\n",
       "  'logits': array([-2.44735551,  2.96031594, -4.38150406], dtype=float32),\n",
       "  'probabilities': array([  4.45918925e-03,   9.94896233e-01,   6.44563872e-04], dtype=float32)},\n",
       " {'class_ids': array([1]),\n",
       "  'classes': array([b'1'], dtype=object),\n",
       "  'logits': array([-0.64183694,  1.44870424, -2.54345512], dtype=float32),\n",
       "  'probabilities': array([ 0.1082413 ,  0.87559533,  0.01616332], dtype=float32)},\n",
       " {'class_ids': array([0]),\n",
       "  'classes': array([b'0'], dtype=object),\n",
       "  'logits': array([ 1.24733162, -0.02005285, -2.18431282], dtype=float32),\n",
       "  'probabilities': array([ 0.76109242,  0.21429859,  0.02460895], dtype=float32)},\n",
       " {'class_ids': array([0]),\n",
       "  'classes': array([b'0'], dtype=object),\n",
       "  'logits': array([ 1.2522707 , -0.12193549, -2.02637482], dtype=float32),\n",
       "  'probabilities': array([ 0.77476162,  0.19604596,  0.02919244], dtype=float32)},\n",
       " {'class_ids': array([0]),\n",
       "  'classes': array([b'0'], dtype=object),\n",
       "  'logits': array([ 1.80140662, -0.66176617, -2.18148327], dtype=float32),\n",
       "  'probabilities': array([ 0.90596449,  0.07715584,  0.01687967], dtype=float32)},\n",
       " {'class_ids': array([1]),\n",
       "  'classes': array([b'1'], dtype=object),\n",
       "  'logits': array([ 0.52271801,  0.54493225, -2.21649408], dtype=float32),\n",
       "  'probabilities': array([ 0.47913742,  0.4899002 ,  0.03096245], dtype=float32)},\n",
       " {'class_ids': array([2]),\n",
       "  'classes': array([b'2'], dtype=object),\n",
       "  'logits': array([-1.99689198, -0.55789351,  2.27418613], dtype=float32),\n",
       "  'probabilities': array([ 0.01301825,  0.05489105,  0.93209064], dtype=float32)},\n",
       " {'class_ids': array([2]),\n",
       "  'classes': array([b'2'], dtype=object),\n",
       "  'logits': array([-2.2076273 , -0.24106437,  1.68280339], dtype=float32),\n",
       "  'probabilities': array([ 0.01751988,  0.1251983 ,  0.8572818 ], dtype=float32)},\n",
       " {'class_ids': array([0]),\n",
       "  'classes': array([b'0'], dtype=object),\n",
       "  'logits': array([ 1.72773468, -0.61381286, -2.10933423], dtype=float32),\n",
       "  'probabilities': array([ 0.89466614,  0.08604781,  0.01928604], dtype=float32)}]"
      ]
     },
     "execution_count": 34,
     "metadata": {},
     "output_type": "execute_result"
    }
   ],
   "source": [
    "predictions"
   ]
  },
  {
   "cell_type": "code",
   "execution_count": 35,
   "metadata": {
    "collapsed": true
   },
   "outputs": [],
   "source": [
    "pred = [p['class_ids'][0] for p in predictions]"
   ]
  },
  {
   "cell_type": "code",
   "execution_count": 36,
   "metadata": {
    "collapsed": false
   },
   "outputs": [
    {
     "data": {
      "text/plain": [
       "[1,\n",
       " 1,\n",
       " 0,\n",
       " 0,\n",
       " 1,\n",
       " 1,\n",
       " 1,\n",
       " 0,\n",
       " 0,\n",
       " 1,\n",
       " 2,\n",
       " 1,\n",
       " 1,\n",
       " 0,\n",
       " 1,\n",
       " 0,\n",
       " 2,\n",
       " 0,\n",
       " 0,\n",
       " 1,\n",
       " 1,\n",
       " 1,\n",
       " 1,\n",
       " 0,\n",
       " 1,\n",
       " 2,\n",
       " 0,\n",
       " 0,\n",
       " 2,\n",
       " 0,\n",
       " 0,\n",
       " 2,\n",
       " 1,\n",
       " 0,\n",
       " 0,\n",
       " 1,\n",
       " 1,\n",
       " 2,\n",
       " 1,\n",
       " 1,\n",
       " 2,\n",
       " 0,\n",
       " 2,\n",
       " 2,\n",
       " 1,\n",
       " 1,\n",
       " 1,\n",
       " 0,\n",
       " 0,\n",
       " 0,\n",
       " 1,\n",
       " 2,\n",
       " 2,\n",
       " 0]"
      ]
     },
     "execution_count": 36,
     "metadata": {},
     "output_type": "execute_result"
    }
   ],
   "source": [
    "pred"
   ]
  },
  {
   "cell_type": "code",
   "execution_count": 37,
   "metadata": {
    "collapsed": true
   },
   "outputs": [],
   "source": [
    "from sklearn.metrics import confusion_matrix,classification_report"
   ]
  },
  {
   "cell_type": "code",
   "execution_count": 38,
   "metadata": {
    "collapsed": false
   },
   "outputs": [
    {
     "data": {
      "text/plain": [
       "54"
      ]
     },
     "execution_count": 38,
     "metadata": {},
     "output_type": "execute_result"
    }
   ],
   "source": [
    "len(pred)"
   ]
  },
  {
   "cell_type": "code",
   "execution_count": 40,
   "metadata": {
    "collapsed": false
   },
   "outputs": [
    {
     "name": "stdout",
     "output_type": "stream",
     "text": [
      "             precision    recall  f1-score   support\n",
      "\n",
      "          0       1.00      0.87      0.93        23\n",
      "          1       0.87      1.00      0.93        20\n",
      "          2       1.00      1.00      1.00        11\n",
      "\n",
      "avg / total       0.95      0.94      0.94        54\n",
      "\n"
     ]
    }
   ],
   "source": [
    "print(classification_report(y_test,pred))"
   ]
  },
  {
   "cell_type": "code",
   "execution_count": null,
   "metadata": {
    "collapsed": true
   },
   "outputs": [],
   "source": []
  }
 ],
 "metadata": {
  "kernelspec": {
   "display_name": "Python 3",
   "language": "python",
   "name": "python3"
  },
  "language_info": {
   "codemirror_mode": {
    "name": "ipython",
    "version": 3
   },
   "file_extension": ".py",
   "mimetype": "text/x-python",
   "name": "python",
   "nbconvert_exporter": "python",
   "pygments_lexer": "ipython3",
   "version": "3.6.0"
  }
 },
 "nbformat": 4,
 "nbformat_minor": 2
}
