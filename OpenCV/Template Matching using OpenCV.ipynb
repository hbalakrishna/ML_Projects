{
 "cells": [
  {
   "cell_type": "code",
   "execution_count": 1,
   "metadata": {},
   "outputs": [],
   "source": [
    "import cv2\n",
    "import numpy as np"
   ]
  },
  {
   "cell_type": "code",
   "execution_count": 2,
   "metadata": {},
   "outputs": [],
   "source": [
    "img = cv2.imread('/Users/hemanth/Documents/ML/images/WaldoBeach.jpg')"
   ]
  },
  {
   "cell_type": "code",
   "execution_count": 6,
   "metadata": {},
   "outputs": [
    {
     "data": {
      "text/plain": [
       "13"
      ]
     },
     "execution_count": 6,
     "metadata": {},
     "output_type": "execute_result"
    }
   ],
   "source": [
    "cv2.imshow('Waldo', img)\n",
    "cv2.waitKey(0)"
   ]
  },
  {
   "cell_type": "code",
   "execution_count": 3,
   "metadata": {
    "collapsed": true
   },
   "outputs": [],
   "source": [
    "gray = cv2.cvtColor(img , cv2.COLOR_BGR2GRAY)"
   ]
  },
  {
   "cell_type": "code",
   "execution_count": 4,
   "metadata": {
    "collapsed": true
   },
   "outputs": [],
   "source": [
    "img_template = cv2.imread('/Users/hemanth/Documents/ML/images/Waldo.jpg')"
   ]
  },
  {
   "cell_type": "code",
   "execution_count": 5,
   "metadata": {
    "collapsed": true
   },
   "outputs": [],
   "source": [
    "result = cv2.matchTemplate(img, img_template, cv2.TM_CCOEFF)"
   ]
  },
  {
   "cell_type": "code",
   "execution_count": 6,
   "metadata": {
    "collapsed": true
   },
   "outputs": [],
   "source": [
    "min_val, max_val, min_loc, max_loc = cv2.minMaxLoc(result)"
   ]
  },
  {
   "cell_type": "code",
   "execution_count": 7,
   "metadata": {
    "collapsed": true
   },
   "outputs": [],
   "source": [
    "top_left = max_loc"
   ]
  },
  {
   "cell_type": "code",
   "execution_count": 8,
   "metadata": {
    "collapsed": true
   },
   "outputs": [],
   "source": [
    "bottom_right = (top_left[0] + 50, top_left[1] + 50)"
   ]
  },
  {
   "cell_type": "code",
   "execution_count": 9,
   "metadata": {},
   "outputs": [
    {
     "data": {
      "text/plain": [
       "array([[[255, 248, 231],\n",
       "        [255, 249, 232],\n",
       "        [255, 249, 232],\n",
       "        ..., \n",
       "        [255, 245, 255],\n",
       "        [255, 245, 255],\n",
       "        [255, 245, 255]],\n",
       "\n",
       "       [[254, 245, 231],\n",
       "        [255, 246, 232],\n",
       "        [255, 246, 232],\n",
       "        ..., \n",
       "        [255, 245, 255],\n",
       "        [255, 245, 255],\n",
       "        [255, 245, 255]],\n",
       "\n",
       "       [[253, 245, 232],\n",
       "        [253, 245, 232],\n",
       "        [253, 245, 232],\n",
       "        ..., \n",
       "        [255, 245, 255],\n",
       "        [255, 245, 255],\n",
       "        [255, 245, 255]],\n",
       "\n",
       "       ..., \n",
       "       [[158, 245, 249],\n",
       "        [155, 246, 250],\n",
       "        [146, 243, 247],\n",
       "        ..., \n",
       "        [182, 199, 202],\n",
       "        [173, 199, 205],\n",
       "        [ 93, 122, 131]],\n",
       "\n",
       "       [[163, 253, 254],\n",
       "        [158, 251, 252],\n",
       "        [150, 250, 252],\n",
       "        ..., \n",
       "        [101, 132, 147],\n",
       "        [ 79, 123, 147],\n",
       "        [114, 165, 197]],\n",
       "\n",
       "       [[159, 252, 251],\n",
       "        [156, 252, 252],\n",
       "        [153, 254, 255],\n",
       "        ..., \n",
       "        [  5,  46,  69],\n",
       "        [105, 160, 199],\n",
       "        [166, 232, 255]]], dtype=uint8)"
      ]
     },
     "execution_count": 9,
     "metadata": {},
     "output_type": "execute_result"
    }
   ],
   "source": [
    "cv2.rectangle(img, top_left, bottom_right, (255,255,0),5)"
   ]
  },
  {
   "cell_type": "code",
   "execution_count": 12,
   "metadata": {
    "collapsed": true
   },
   "outputs": [],
   "source": [
    "cv2.imshow('Heres Waldo', img)\n",
    "cv2.waitKey(0)\n",
    "cv2.destroyAllWindows()"
   ]
  },
  {
   "cell_type": "code",
   "execution_count": null,
   "metadata": {
    "collapsed": true
   },
   "outputs": [],
   "source": []
  }
 ],
 "metadata": {
  "kernelspec": {
   "display_name": "Python 3",
   "language": "python",
   "name": "python3"
  },
  "language_info": {
   "codemirror_mode": {
    "name": "ipython",
    "version": 3
   },
   "file_extension": ".py",
   "mimetype": "text/x-python",
   "name": "python",
   "nbconvert_exporter": "python",
   "pygments_lexer": "ipython3",
   "version": "3.6.0"
  }
 },
 "nbformat": 4,
 "nbformat_minor": 2
}
